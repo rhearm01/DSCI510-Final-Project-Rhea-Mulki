{
  "nbformat": 4,
  "nbformat_minor": 0,
  "metadata": {
    "colab": {
      "provenance": [],
      "gpuType": "A100",
      "machine_shape": "hm",
      "mount_file_id": "10JuoDDAm-YlXdMvujMFHWqo3WiodWL0C",
      "authorship_tag": "ABX9TyOlS80hym+J8R3tbLtgGnHD",
      "include_colab_link": true
    },
    "kernelspec": {
      "name": "python3",
      "display_name": "Python 3"
    },
    "language_info": {
      "name": "python"
    },
    "accelerator": "GPU"
  },
  "cells": [
    {
      "cell_type": "markdown",
      "metadata": {
        "id": "view-in-github",
        "colab_type": "text"
      },
      "source": [
        "<a href=\"https://colab.research.google.com/github/rhearm01/DSCI510-Final-Project-Rhea-Mulki/blob/main/Mulki_Rhea_Final_Project.ipynb\" target=\"_parent\"><img src=\"https://colab.research.google.com/assets/colab-badge.svg\" alt=\"Open In Colab\"/></a>"
      ]
    },
    {
      "cell_type": "markdown",
      "source": [
        "<center><h1>Mulki_Rhea_Final_Project</h1></center>"
      ],
      "metadata": {
        "id": "Z3p-jCGvZgkg"
      }
    },
    {
      "cell_type": "markdown",
      "source": [
        "Name: Rhea Ranjit Mulki\n",
        "<br>\n",
        "Github Username: rhearm01\n",
        "<br>\n",
        "USC ID: 6077499327"
      ],
      "metadata": {
        "id": "UGT3amLMZnC7"
      }
    },
    {
      "cell_type": "markdown",
      "source": [
        "## 1. Transfer Learning for Image Classification"
      ],
      "metadata": {
        "id": "1YSGExerZo04"
      }
    },
    {
      "cell_type": "markdown",
      "source": [
        "Import packages"
      ],
      "metadata": {
        "id": "tPlL3v_dZtkw"
      }
    },
    {
      "cell_type": "code",
      "execution_count": 17,
      "metadata": {
        "id": "kfqiL_3tWj4K"
      },
      "outputs": [],
      "source": [
        "import os\n",
        "import zipfile\n",
        "import numpy as np\n",
        "from tensorflow.keras.utils import to_categorical\n",
        "import cv2\n",
        "import tensorflow as tf\n",
        "from tensorflow.keras.applications import ResNet50, ResNet101, EfficientNetB0, VGG16\n",
        "from tensorflow.keras.models import Model\n",
        "from tensorflow.keras.layers import Dense, Flatten, Dropout, GlobalAveragePooling2D\n",
        "from tensorflow.keras.optimizers import Adam\n",
        "from tensorflow.keras.regularizers import l2\n",
        "from tensorflow.keras.preprocessing.image import ImageDataGenerator\n",
        "from tensorflow.keras.callbacks import EarlyStopping\n",
        "import matplotlib.pyplot as plt\n",
        "from sklearn.metrics import precision_score, recall_score, f1_score, roc_auc_score"
      ]
    },
    {
      "cell_type": "markdown",
      "source": [
        "### (a) In this problem, we are trying to build a classifier that distinguishes images of six scenes."
      ],
      "metadata": {
        "id": "b-ND21_faDNE"
      }
    },
    {
      "cell_type": "markdown",
      "source": [
        "### (b) Data Exploration and Pre-processing"
      ],
      "metadata": {
        "id": "nnwDzOPmaEH5"
      }
    },
    {
      "cell_type": "markdown",
      "source": [
        "i. Images in each class are given in separate folders in the training and test sets. You can encode your classes using one-hot encoding."
      ],
      "metadata": {
        "id": "mL5venReaGku"
      }
    },
    {
      "cell_type": "code",
      "source": [
        "# Unzip the data.zip file\n",
        "zip_path = '/content/data.zip'  # Path to your uploaded ZIP file\n",
        "unzip_dir = '/content/data'     # Directory to extract files\n",
        "\n",
        "with zipfile.ZipFile(zip_path, 'r') as zip_ref:\n",
        "    zip_ref.extractall(unzip_dir)"
      ],
      "metadata": {
        "id": "-GIw9D6OrnSf"
      },
      "execution_count": 2,
      "outputs": []
    },
    {
      "cell_type": "code",
      "source": [
        "# Paths to the training and test datasets\n",
        "train_dir = '/content/data/data/seg_train/seg_train'\n",
        "test_dir = '/content/data/data/seg_test/seg_test'\n",
        "\n",
        "# Get class names from directory structure\n",
        "class_names = sorted(os.listdir(train_dir))  # List of class folder names\n",
        "num_classes = len(class_names)  # Number of classes\n",
        "class_to_index = {class_name: index for index, class_name in enumerate(class_names)}  # Mapping\n",
        "\n",
        "print(f\"Class-to-Index Mapping: {class_to_index}\")\n",
        "\n",
        "# Function to get one-hot encoded labels and image paths\n",
        "def get_one_hot_labels(data_dir, class_to_index):\n",
        "    image_paths = []\n",
        "    labels = []\n",
        "\n",
        "    for class_name, index in class_to_index.items():\n",
        "        class_dir = os.path.join(data_dir, class_name)\n",
        "        for image_name in os.listdir(class_dir):\n",
        "            image_paths.append(os.path.join(class_dir, image_name))  # Store full image path\n",
        "            labels.append(index)  # Store class index\n",
        "\n",
        "    labels = np.array(labels)  # Convert labels to a numpy array\n",
        "    one_hot_labels = to_categorical(labels, num_classes=len(class_to_index))  # One-hot encoding\n",
        "    return image_paths, one_hot_labels\n",
        "\n",
        "# Get image paths and one-hot encoded labels for training and test sets\n",
        "train_image_paths, train_labels = get_one_hot_labels(train_dir, class_to_index)\n",
        "test_image_paths, test_labels = get_one_hot_labels(test_dir, class_to_index)\n",
        "\n",
        "# Print sample outputs for verification\n",
        "print(f\"Sample Train Image Paths: {train_image_paths[:3]}\")\n",
        "print(f\"Sample Train Labels (One-Hot Encoded): {train_labels[:3]}\")\n",
        "print(f\"Sample Test Image Paths: {test_image_paths[:3]}\")\n",
        "print(f\"Sample Test Labels (One-Hot Encoded): {test_labels[:3]}\")"
      ],
      "metadata": {
        "colab": {
          "base_uri": "https://localhost:8080/"
        },
        "id": "0eKxghvCaJg3",
        "outputId": "ca809470-eceb-4dce-a0e6-026b8408154b"
      },
      "execution_count": 3,
      "outputs": [
        {
          "output_type": "stream",
          "name": "stdout",
          "text": [
            "Class-to-Index Mapping: {'buildings': 0, 'forest': 1, 'glacier': 2, 'mountain': 3, 'sea': 4, 'street': 5}\n",
            "Sample Train Image Paths: ['/content/data/data/seg_train/seg_train/buildings/16324.jpg', '/content/data/data/seg_train/seg_train/buildings/15845.jpg', '/content/data/data/seg_train/seg_train/buildings/16750.jpg']\n",
            "Sample Train Labels (One-Hot Encoded): [[1. 0. 0. 0. 0. 0.]\n",
            " [1. 0. 0. 0. 0. 0.]\n",
            " [1. 0. 0. 0. 0. 0.]]\n",
            "Sample Test Image Paths: ['/content/data/data/seg_test/seg_test/buildings/21516.jpg', '/content/data/data/seg_test/seg_test/buildings/21294.jpg', '/content/data/data/seg_test/seg_test/buildings/20635.jpg']\n",
            "Sample Test Labels (One-Hot Encoded): [[1. 0. 0. 0. 0. 0.]\n",
            " [1. 0. 0. 0. 0. 0.]\n",
            " [1. 0. 0. 0. 0. 0.]]\n"
          ]
        }
      ]
    },
    {
      "cell_type": "markdown",
      "source": [
        "ii. In case all the images do not have the same size, zero-pad or resize the images in your dataset. This can be done using various tools, including OpenCV."
      ],
      "metadata": {
        "id": "DxWo5_g6d9YP"
      }
    },
    {
      "cell_type": "code",
      "source": [
        "# Function to preprocess images by resizing or zero-padding\n",
        "def preprocess_images(image_paths, target_size=(224, 224)):\n",
        "    processed_images = []\n",
        "\n",
        "    for path in image_paths:\n",
        "        # Read the image\n",
        "        image = cv2.imread(path)\n",
        "\n",
        "        if image is None:\n",
        "            print(f\"Warning: Unable to read image {path}\")\n",
        "            continue\n",
        "\n",
        "        # Get the current dimensions of the image\n",
        "        h, w, c = image.shape\n",
        "\n",
        "        # Resize or pad the image\n",
        "        if h != target_size[0] or w != target_size[1]:\n",
        "            # Resize the image\n",
        "            if h > target_size[0] or w > target_size[1]:\n",
        "                image = cv2.resize(image, target_size, interpolation=cv2.INTER_AREA)\n",
        "            else:\n",
        "                # Add zero-padding\n",
        "                top_pad = (target_size[0] - h) // 2\n",
        "                bottom_pad = target_size[0] - h - top_pad\n",
        "                left_pad = (target_size[1] - w) // 2\n",
        "                right_pad = target_size[1] - w - left_pad\n",
        "\n",
        "                image = cv2.copyMakeBorder(\n",
        "                    image, top_pad, bottom_pad, left_pad, right_pad,\n",
        "                    cv2.BORDER_CONSTANT, value=[0, 0, 0]\n",
        "                )\n",
        "\n",
        "        # Normalize pixel values to the range [0, 1]\n",
        "        image = image / 255.0\n",
        "\n",
        "        # Add the processed image to the list\n",
        "        processed_images.append(image)\n",
        "\n",
        "    return np.array(processed_images)\n",
        "\n",
        "# Preprocess training and testing images\n",
        "train_images = preprocess_images(train_image_paths, target_size=(224, 224))\n",
        "test_images = preprocess_images(test_image_paths, target_size=(224, 224))\n",
        "\n",
        "# Print shapes of processed image arrays\n",
        "print(f\"Processed Training Images Shape: {train_images.shape}\")\n",
        "print(f\"Processed Testing Images Shape: {test_images.shape}\")"
      ],
      "metadata": {
        "id": "7JHqzkeYd-E-",
        "colab": {
          "base_uri": "https://localhost:8080/"
        },
        "outputId": "883569b5-8143-4a5e-d41d-f4480c87e152"
      },
      "execution_count": 4,
      "outputs": [
        {
          "output_type": "stream",
          "name": "stdout",
          "text": [
            "Processed Training Images Shape: (14034, 224, 224, 3)\n",
            "Processed Testing Images Shape: (3000, 224, 224, 3)\n"
          ]
        }
      ]
    },
    {
      "cell_type": "markdown",
      "source": [
        "### (c) Transfer Learning"
      ],
      "metadata": {
        "id": "f_TkGF1fxs96"
      }
    },
    {
      "cell_type": "markdown",
      "source": [
        "i. When dealing with classification of relatively small image datasets, deep networks may not perform very well because of not having enough data to train them. In such cases, one usually uses transfer learning, which uses deep learning models that are trained on very large datasets such as ImageNet as feature extractors. The idea is that such deep networks have learned to extract meaningful features from an image using their layers, and those features can be used in learning other tasks. In order to do that, usually the last layer or the last few layers of the pre-trained network are removed, and the response of the layer before the removed layers to the images in the new dataset is used as a feature vector to train one more multiple replacement layers. In this project, you will use pre-trained models ResNet50, ResNet100, EfficientNetB0, and VGG16. For those pre-trained networks, you will only train the last fully connected layer, and will freeze all layers before them (i.e.\n",
        "we do not change their parameters during training) and use the outputs of the penultimate layer in the original pre-trained model as the features extracted from each image."
      ],
      "metadata": {
        "id": "191JSdz7xtvg"
      }
    },
    {
      "cell_type": "markdown",
      "source": [
        "&"
      ],
      "metadata": {
        "id": "Li4GfZ8v2cO_"
      }
    },
    {
      "cell_type": "markdown",
      "source": [
        "iii. Use ReLU activation functions in the last layer and a softmax layer, along with regularization, batch normalization, and a dropout rate of 20% as well as ADAM optimizer. Use multinomial cross entropy loss. You can try any batch size, but a batch size of 5 seems reasonable."
      ],
      "metadata": {
        "id": "TYr6s0hC2gWj"
      }
    },
    {
      "cell_type": "code",
      "source": [
        "input_shape = (224, 224, 3)  # Shape of input images\n",
        "num_classes = 6  # Number of classes\n",
        "\n",
        "def build_transfer_learning_model(base_model_fn, num_classes):\n",
        "    base_model = base_model_fn(weights='imagenet', include_top=False, input_shape=input_shape)\n",
        "    for layer in base_model.layers:\n",
        "        layer.trainable = False  # Freeze base model layers\n",
        "\n",
        "    x = base_model.output\n",
        "    x = GlobalAveragePooling2D()(x)\n",
        "    x = Dense(256, activation='relu', kernel_regularizer=l2(0.01))(x)  # ReLU with L2 regularization\n",
        "    x = Dropout(0.2)(x)  # Dropout\n",
        "    outputs = Dense(num_classes, activation='softmax')(x)  # Softmax for multi-class classification\n",
        "\n",
        "    model = Model(inputs=base_model.input, outputs=outputs)\n",
        "    return model\n",
        "\n",
        "# Create models\n",
        "models = {\n",
        "    \"ResNet50\": build_transfer_learning_model(ResNet50, num_classes),\n",
        "    \"ResNet101\": build_transfer_learning_model(ResNet101, num_classes),\n",
        "    \"EfficientNetB0\": build_transfer_learning_model(EfficientNetB0, num_classes),\n",
        "    \"VGG16\": build_transfer_learning_model(VGG16, num_classes),\n",
        "}\n",
        "\n",
        "# Compile models\n",
        "for name, model in models.items():\n",
        "    model.compile(optimizer=Adam(learning_rate=0.001),\n",
        "                  loss='categorical_crossentropy',\n",
        "                  metrics=['accuracy'])"
      ],
      "metadata": {
        "id": "6rIaxI0O5gE8"
      },
      "execution_count": 11,
      "outputs": []
    },
    {
      "cell_type": "markdown",
      "source": [
        "ii. To perform empirical regularization, crop, randomly zoom, rotate, flip, contrast, and translate images in your training set for image augmentation. You can use various tools to do this, including OpenCV."
      ],
      "metadata": {
        "id": "NuviDeMy6ISP"
      }
    },
    {
      "cell_type": "code",
      "source": [
        "# Image augmentation\n",
        "datagen = ImageDataGenerator(\n",
        "    rotation_range=30,\n",
        "    width_shift_range=0.2,\n",
        "    height_shift_range=0.2,\n",
        "    shear_range=0.2,\n",
        "    zoom_range=0.2,\n",
        "    horizontal_flip=True,\n",
        "    fill_mode='nearest',\n",
        "    validation_split=0.2  # Split data for validation\n",
        ")\n",
        "\n",
        "# Training data generator\n",
        "train_generator = datagen.flow(\n",
        "    train_images, train_labels,\n",
        "    batch_size=5,\n",
        "    subset='training'\n",
        ")\n",
        "\n",
        "# Validation data generator\n",
        "val_generator = datagen.flow(\n",
        "    train_images, train_labels,\n",
        "    batch_size=5,\n",
        "    subset='validation'\n",
        ")"
      ],
      "metadata": {
        "id": "GnTIVX1l6OCO"
      },
      "execution_count": 13,
      "outputs": []
    },
    {
      "cell_type": "markdown",
      "source": [
        "iv. Train the networks for at least 50 epochs (preferably 100 epochs) and perform early stopping using the validation set. Use a randomly selected subset of 20% of each class as the validation set. Keep the network parameters that have the lowest validation error. Plot the training and validation errors vs. epochs."
      ],
      "metadata": {
        "id": "8H3mtSiM6cU7"
      }
    },
    {
      "cell_type": "code",
      "source": [
        "# Early stopping callback\n",
        "early_stopping = EarlyStopping(monitor='val_loss', patience=5, restore_best_weights=True)\n",
        "\n",
        "# Train each model\n",
        "histories = {}\n",
        "for name, model in models.items():\n",
        "    print(f\"Training {name}...\")\n",
        "    history = model.fit(\n",
        "        train_generator,\n",
        "        validation_data=val_generator,\n",
        "        epochs=50,\n",
        "        callbacks=[early_stopping],\n",
        "        verbose=1\n",
        "    )\n",
        "    histories[name] = history\n",
        "\n",
        "# Plot training and validation loss for each model\n",
        "for name, history in histories.items():\n",
        "    plt.plot(history.history['loss'], label=f\"{name} Training Loss\")\n",
        "    plt.plot(history.history['val_loss'], label=f\"{name} Validation Loss\")\n",
        "plt.title(\"Training and Validation Loss\")\n",
        "plt.xlabel(\"Epochs\")\n",
        "plt.ylabel(\"Loss\")\n",
        "plt.legend()\n",
        "plt.show()"
      ],
      "metadata": {
        "colab": {
          "base_uri": "https://localhost:8080/",
          "height": 1000
        },
        "id": "3VLcpe0B6jYC",
        "outputId": "07c95be4-79cf-4383-dbe1-73121ec1822e"
      },
      "execution_count": 15,
      "outputs": [
        {
          "metadata": {
            "tags": null
          },
          "name": "stdout",
          "output_type": "stream",
          "text": [
            "Training ResNet50...\n",
            "Epoch 1/50\n"
          ]
        },
        {
          "metadata": {
            "tags": null
          },
          "name": "stderr",
          "output_type": "stream",
          "text": [
            "/usr/local/lib/python3.10/dist-packages/keras/src/trainers/data_adapters/py_dataset_adapter.py:122: UserWarning: Your `PyDataset` class should call `super().__init__(**kwargs)` in its constructor. `**kwargs` can include `workers`, `use_multiprocessing`, `max_queue_size`. Do not pass these arguments to `fit()`, as they will be ignored.\n",
            "  self._warn_if_super_not_called()\n"
          ]
        },
        {
          "output_type": "stream",
          "name": "stdout",
          "text": [
            "\u001b[1m2246/2246\u001b[0m \u001b[32m━━━━━━━━━━━━━━━━━━━━\u001b[0m\u001b[37m\u001b[0m \u001b[1m180s\u001b[0m 74ms/step - accuracy: 0.2813 - loss: 1.9063 - val_accuracy: 0.0000e+00 - val_loss: 6.8603\n",
            "Epoch 2/50\n",
            "\u001b[1m2246/2246\u001b[0m \u001b[32m━━━━━━━━━━━━━━━━━━━━\u001b[0m\u001b[37m\u001b[0m \u001b[1m153s\u001b[0m 68ms/step - accuracy: 0.3257 - loss: 1.5121 - val_accuracy: 0.0734 - val_loss: 7.1222\n",
            "Epoch 3/50\n",
            "\u001b[1m2246/2246\u001b[0m \u001b[32m━━━━━━━━━━━━━━━━━━━━\u001b[0m\u001b[37m\u001b[0m \u001b[1m153s\u001b[0m 68ms/step - accuracy: 0.3435 - loss: 1.4761 - val_accuracy: 7.1276e-04 - val_loss: 9.8357\n",
            "Epoch 4/50\n",
            "\u001b[1m2246/2246\u001b[0m \u001b[32m━━━━━━━━━━━━━━━━━━━━\u001b[0m\u001b[37m\u001b[0m \u001b[1m153s\u001b[0m 68ms/step - accuracy: 0.3357 - loss: 1.4775 - val_accuracy: 0.0000e+00 - val_loss: 10.6151\n",
            "Epoch 5/50\n",
            "\u001b[1m2246/2246\u001b[0m \u001b[32m━━━━━━━━━━━━━━━━━━━━\u001b[0m\u001b[37m\u001b[0m \u001b[1m154s\u001b[0m 68ms/step - accuracy: 0.3619 - loss: 1.4500 - val_accuracy: 0.0000e+00 - val_loss: 11.7558\n",
            "Epoch 6/50\n",
            "\u001b[1m2246/2246\u001b[0m \u001b[32m━━━━━━━━━━━━━━━━━━━━\u001b[0m\u001b[37m\u001b[0m \u001b[1m153s\u001b[0m 68ms/step - accuracy: 0.3407 - loss: 1.4707 - val_accuracy: 0.0688 - val_loss: 10.1468\n",
            "Training ResNet101...\n",
            "Epoch 1/50\n",
            "\u001b[1m2246/2246\u001b[0m \u001b[32m━━━━━━━━━━━━━━━━━━━━\u001b[0m\u001b[37m\u001b[0m \u001b[1m190s\u001b[0m 76ms/step - accuracy: 0.2952 - loss: 1.8536 - val_accuracy: 0.0328 - val_loss: 8.5517\n",
            "Epoch 2/50\n",
            "\u001b[1m2246/2246\u001b[0m \u001b[32m━━━━━━━━━━━━━━━━━━━━\u001b[0m\u001b[37m\u001b[0m \u001b[1m155s\u001b[0m 69ms/step - accuracy: 0.3513 - loss: 1.4881 - val_accuracy: 0.0955 - val_loss: 10.2664\n",
            "Epoch 3/50\n",
            "\u001b[1m2246/2246\u001b[0m \u001b[32m━━━━━━━━━━━━━━━━━━━━\u001b[0m\u001b[37m\u001b[0m \u001b[1m156s\u001b[0m 69ms/step - accuracy: 0.3737 - loss: 1.4477 - val_accuracy: 0.0331 - val_loss: 8.4116\n",
            "Epoch 4/50\n",
            "\u001b[1m2246/2246\u001b[0m \u001b[32m━━━━━━━━━━━━━━━━━━━━\u001b[0m\u001b[37m\u001b[0m \u001b[1m155s\u001b[0m 69ms/step - accuracy: 0.3770 - loss: 1.4414 - val_accuracy: 0.0976 - val_loss: 8.4529\n",
            "Epoch 5/50\n",
            "\u001b[1m2246/2246\u001b[0m \u001b[32m━━━━━━━━━━━━━━━━━━━━\u001b[0m\u001b[37m\u001b[0m \u001b[1m156s\u001b[0m 69ms/step - accuracy: 0.3810 - loss: 1.4203 - val_accuracy: 0.0948 - val_loss: 11.4461\n",
            "Training EfficientNetB0...\n",
            "Epoch 1/50\n",
            "\u001b[1m2246/2246\u001b[0m \u001b[32m━━━━━━━━━━━━━━━━━━━━\u001b[0m\u001b[37m\u001b[0m \u001b[1m201s\u001b[0m 79ms/step - accuracy: 0.2153 - loss: 1.8715 - val_accuracy: 0.0000e+00 - val_loss: 5.2117\n",
            "Epoch 2/50\n",
            "\u001b[1m2246/2246\u001b[0m \u001b[32m━━━━━━━━━━━━━━━━━━━━\u001b[0m\u001b[37m\u001b[0m \u001b[1m152s\u001b[0m 67ms/step - accuracy: 0.2156 - loss: 1.6070 - val_accuracy: 0.0000e+00 - val_loss: 8.2899\n",
            "Epoch 3/50\n",
            "\u001b[1m2246/2246\u001b[0m \u001b[32m━━━━━━━━━━━━━━━━━━━━\u001b[0m\u001b[37m\u001b[0m \u001b[1m143s\u001b[0m 64ms/step - accuracy: 0.2131 - loss: 1.6035 - val_accuracy: 0.0000e+00 - val_loss: 7.3409\n",
            "Epoch 4/50\n",
            "\u001b[1m2246/2246\u001b[0m \u001b[32m━━━━━━━━━━━━━━━━━━━━\u001b[0m\u001b[37m\u001b[0m \u001b[1m141s\u001b[0m 63ms/step - accuracy: 0.2171 - loss: 1.6040 - val_accuracy: 0.0000e+00 - val_loss: 8.8251\n",
            "Epoch 5/50\n",
            "\u001b[1m2246/2246\u001b[0m \u001b[32m━━━━━━━━━━━━━━━━━━━━\u001b[0m\u001b[37m\u001b[0m \u001b[1m142s\u001b[0m 63ms/step - accuracy: 0.2169 - loss: 1.6029 - val_accuracy: 0.0000e+00 - val_loss: 6.7918\n",
            "Epoch 6/50\n",
            "\u001b[1m2246/2246\u001b[0m \u001b[32m━━━━━━━━━━━━━━━━━━━━\u001b[0m\u001b[37m\u001b[0m \u001b[1m149s\u001b[0m 66ms/step - accuracy: 0.2227 - loss: 1.6043 - val_accuracy: 0.0000e+00 - val_loss: 12.1963\n",
            "Training VGG16...\n",
            "Epoch 1/50\n",
            "\u001b[1m2246/2246\u001b[0m \u001b[32m━━━━━━━━━━━━━━━━━━━━\u001b[0m\u001b[37m\u001b[0m \u001b[1m157s\u001b[0m 68ms/step - accuracy: 0.5986 - loss: 1.5234 - val_accuracy: 0.1892 - val_loss: 7.7709\n",
            "Epoch 2/50\n",
            "\u001b[1m2246/2246\u001b[0m \u001b[32m━━━━━━━━━━━━━━━━━━━━\u001b[0m\u001b[37m\u001b[0m \u001b[1m148s\u001b[0m 66ms/step - accuracy: 0.7131 - loss: 0.9255 - val_accuracy: 0.2120 - val_loss: 8.7993\n",
            "Epoch 3/50\n",
            "\u001b[1m2246/2246\u001b[0m \u001b[32m━━━━━━━━━━━━━━━━━━━━\u001b[0m\u001b[37m\u001b[0m \u001b[1m148s\u001b[0m 66ms/step - accuracy: 0.7407 - loss: 0.8369 - val_accuracy: 0.2074 - val_loss: 9.2177\n",
            "Epoch 4/50\n",
            "\u001b[1m2246/2246\u001b[0m \u001b[32m━━━━━━━━━━━━━━━━━━━━\u001b[0m\u001b[37m\u001b[0m \u001b[1m148s\u001b[0m 66ms/step - accuracy: 0.7340 - loss: 0.8420 - val_accuracy: 0.1875 - val_loss: 11.8823\n",
            "Epoch 5/50\n",
            "\u001b[1m2246/2246\u001b[0m \u001b[32m━━━━━━━━━━━━━━━━━━━━\u001b[0m\u001b[37m\u001b[0m \u001b[1m148s\u001b[0m 66ms/step - accuracy: 0.7596 - loss: 0.7795 - val_accuracy: 0.1475 - val_loss: 13.2953\n"
          ]
        },
        {
          "output_type": "display_data",
          "data": {
            "text/plain": [
              "<Figure size 640x480 with 1 Axes>"
            ],
            "image/png": "[encoded data removed]"
          },
          "metadata": {}
        }
      ]
    },
    {
      "cell_type": "markdown",
      "source": [
        "v. Report training, validation, and test Precision, Recall, AUC, and F1 score for those models. Is there a model that clearly outperforms others? Remember that this is a multi-class classification problem."
      ],
      "metadata": {
        "id": "Yg-KXkh6_fCB"
      }
    },
    {
      "cell_type": "code",
      "source": [
        "# Evaluate and report metrics for each model\n",
        "for name, model in models.items():\n",
        "    print(f\"Evaluating {name}...\")\n",
        "    predictions = model.predict(test_images)\n",
        "    y_true = test_labels.argmax(axis=1)\n",
        "    y_pred = predictions.argmax(axis=1)\n",
        "\n",
        "    precision = precision_score(y_true, y_pred, average='weighted')\n",
        "    recall = recall_score(y_true, y_pred, average='weighted')\n",
        "    f1 = f1_score(y_true, y_pred, average='weighted')\n",
        "    auc = roc_auc_score(test_labels, predictions, multi_class='ovr')\n",
        "\n",
        "    print(f\"{name} Metrics:\")\n",
        "    print(f\"Precision: {precision:.2f}\")\n",
        "    print(f\"Recall: {recall:.2f}\")\n",
        "    print(f\"F1 Score: {f1:.2f}\")\n",
        "    print(f\"AUC: {auc:.2f}\\n\")"
      ],
      "metadata": {
        "colab": {
          "base_uri": "https://localhost:8080/"
        },
        "id": "ZTomEn9V_kn_",
        "outputId": "fb9b196d-f51a-4ad5-e558-7948b58858d7"
      },
      "execution_count": 18,
      "outputs": [
        {
          "output_type": "stream",
          "name": "stdout",
          "text": [
            "Evaluating ResNet50...\n",
            "\u001b[1m94/94\u001b[0m \u001b[32m━━━━━━━━━━━━━━━━━━━━\u001b[0m\u001b[37m\u001b[0m \u001b[1m1s\u001b[0m 15ms/step\n",
            "ResNet50 Metrics:\n",
            "Precision: 0.17\n",
            "Recall: 0.31\n",
            "F1 Score: 0.21\n",
            "AUC: 0.70\n",
            "\n",
            "Evaluating ResNet101...\n"
          ]
        },
        {
          "output_type": "stream",
          "name": "stderr",
          "text": [
            "/usr/local/lib/python3.10/dist-packages/sklearn/metrics/_classification.py:1531: UndefinedMetricWarning: Precision is ill-defined and being set to 0.0 in labels with no predicted samples. Use `zero_division` parameter to control this behavior.\n",
            "  _warn_prf(average, modifier, f\"{metric.capitalize()} is\", len(result))\n"
          ]
        },
        {
          "output_type": "stream",
          "name": "stdout",
          "text": [
            "\u001b[1m94/94\u001b[0m \u001b[32m━━━━━━━━━━━━━━━━━━━━\u001b[0m\u001b[37m\u001b[0m \u001b[1m16s\u001b[0m 96ms/step\n",
            "ResNet101 Metrics:\n",
            "Precision: 0.37\n",
            "Recall: 0.32\n",
            "F1 Score: 0.27\n",
            "AUC: 0.75\n",
            "\n",
            "Evaluating EfficientNetB0...\n"
          ]
        },
        {
          "output_type": "stream",
          "name": "stderr",
          "text": [
            "/usr/local/lib/python3.10/dist-packages/sklearn/metrics/_classification.py:1531: UndefinedMetricWarning: Precision is ill-defined and being set to 0.0 in labels with no predicted samples. Use `zero_division` parameter to control this behavior.\n",
            "  _warn_prf(average, modifier, f\"{metric.capitalize()} is\", len(result))\n"
          ]
        },
        {
          "output_type": "stream",
          "name": "stdout",
          "text": [
            "\u001b[1m94/94\u001b[0m \u001b[32m━━━━━━━━━━━━━━━━━━━━\u001b[0m\u001b[37m\u001b[0m \u001b[1m18s\u001b[0m 118ms/step\n",
            "EfficientNetB0 Metrics:\n",
            "Precision: 0.03\n",
            "Recall: 0.17\n",
            "F1 Score: 0.05\n",
            "AUC: 0.58\n",
            "\n",
            "Evaluating VGG16...\n"
          ]
        },
        {
          "output_type": "stream",
          "name": "stderr",
          "text": [
            "/usr/local/lib/python3.10/dist-packages/sklearn/metrics/_classification.py:1531: UndefinedMetricWarning: Precision is ill-defined and being set to 0.0 in labels with no predicted samples. Use `zero_division` parameter to control this behavior.\n",
            "  _warn_prf(average, modifier, f\"{metric.capitalize()} is\", len(result))\n"
          ]
        },
        {
          "output_type": "stream",
          "name": "stdout",
          "text": [
            "\u001b[1m94/94\u001b[0m \u001b[32m━━━━━━━━━━━━━━━━━━━━\u001b[0m\u001b[37m\u001b[0m \u001b[1m7s\u001b[0m 60ms/step\n",
            "VGG16 Metrics:\n",
            "Precision: 0.59\n",
            "Recall: 0.65\n",
            "F1 Score: 0.60\n",
            "AUC: 0.88\n",
            "\n"
          ]
        },
        {
          "output_type": "stream",
          "name": "stderr",
          "text": [
            "/usr/local/lib/python3.10/dist-packages/sklearn/metrics/_classification.py:1531: UndefinedMetricWarning: Precision is ill-defined and being set to 0.0 in labels with no predicted samples. Use `zero_division` parameter to control this behavior.\n",
            "  _warn_prf(average, modifier, f\"{metric.capitalize()} is\", len(result))\n"
          ]
        }
      ]
    },
    {
      "cell_type": "markdown",
      "source": [
        "Based on the evaluation metrics, VGG16 clearly outperforms the other models in this multi-class classification task, achieving the highest precision (0.59), recall (0.65), F1 score (0.60), and AUC (0.88). ResNet50 and ResNet101 show moderate performance, with ResNet101 slightly better in precision (0.37) and AUC (0.75) compared to ResNet50, but both significantly lag behind VGG16. EfficientNetB0 performs poorly, with extremely low precision (0.03), recall (0.17), F1 score (0.05), and AUC (0.58), suggesting it struggles to classify effectively in this setup. Therefore, VGG16 is the most suitable model for this dataset, and further tuning or fine-tuning efforts should prioritize it to achieve even better results.\n",
        "\n",
        "\n",
        "\n",
        "\n",
        "\n",
        "\n"
      ],
      "metadata": {
        "id": "9oOMTXkgKvPo"
      }
    }
  ]
}